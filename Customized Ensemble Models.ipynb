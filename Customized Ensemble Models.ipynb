{
 "cells": [
  {
   "cell_type": "markdown",
   "id": "d3850ff2",
   "metadata": {},
   "source": [
    "# Customized Ensemble Models"
   ]
  },
  {
   "cell_type": "code",
   "execution_count": 1,
   "id": "166f77b5",
   "metadata": {},
   "outputs": [],
   "source": [
    "# Creating synthetic data points\n",
    "from sklearn.datasets import make_classification\n",
    "\n",
    "# Defining the dataset\n",
    "X, y = make_classification(n_samples = 1000, n_features = 20, n_informative = 15, n_redundant = 5, random_state= 1)"
   ]
  },
  {
   "cell_type": "code",
   "execution_count": 2,
   "id": "0e648e9f",
   "metadata": {},
   "outputs": [
    {
     "data": {
      "text/plain": [
       "array([[  2.47475454,   0.40165523,   1.68081787, ...,  -6.59044146,\n",
       "         -2.21290585,  -3.139579  ],\n",
       "       [  0.84802507,   2.81841945,  -2.76008732, ...,   3.00844461,\n",
       "          0.78661954,  -1.27681551],\n",
       "       [ -1.90041246,  -0.56901823,  -1.76220236, ...,   3.37336417,\n",
       "         -2.28613707,   1.90344983],\n",
       "       ...,\n",
       "       [  0.7673844 ,  -2.91920559,   2.80851577, ...,   4.42591832,\n",
       "          0.46321196,  -3.30523346],\n",
       "       [  2.05510667,  -0.99009741,   0.73577291, ...,   3.05100898,\n",
       "         -1.40715279,  -0.51579331],\n",
       "       [-10.96847792,  -2.39810735,  -0.96700953, ..., -11.16298557,\n",
       "          1.16646392,   0.60835176]])"
      ]
     },
     "execution_count": 2,
     "metadata": {},
     "output_type": "execute_result"
    }
   ],
   "source": [
    "# Lets see X\n",
    "X"
   ]
  },
  {
   "cell_type": "code",
   "execution_count": 3,
   "id": "6dbf01a8",
   "metadata": {},
   "outputs": [
    {
     "data": {
      "text/plain": [
       "Counter({0: 501, 1: 499})"
      ]
     },
     "execution_count": 3,
     "metadata": {},
     "output_type": "execute_result"
    }
   ],
   "source": [
    "# Lets see the number of classes\n",
    "from collections import Counter\n",
    "counter = Counter(y)\n",
    "counter"
   ]
  },
  {
   "cell_type": "code",
   "execution_count": 6,
   "id": "1caf7c38",
   "metadata": {},
   "outputs": [],
   "source": [
    "# Importing the required models for making the ensemble\n",
    "from sklearn.tree import DecisionTreeClassifier\n",
    "from sklearn.ensemble import RandomForestClassifier\n",
    "from xgboost import XGBClassifier\n",
    "from sklearn.model_selection import cross_val_score, RepeatedStratifiedKFold\n",
    "from sklearn.ensemble import VotingClassifier\n",
    "from sklearn.pipeline import Pipeline"
   ]
  },
  {
   "cell_type": "code",
   "execution_count": 13,
   "id": "1e219595",
   "metadata": {},
   "outputs": [],
   "source": [
    "# Lets define the base models\n",
    "models = list()\n",
    "\n",
    "decision_tree = Pipeline([(\"m\", DecisionTreeClassifier())])\n",
    "models.append((\"Decision\", decision_tree))\n",
    "\n",
    "random_forest = Pipeline([(\"m\", RandomForestClassifier())])\n",
    "models.append((\"RandomForest\", random_forest))\n",
    "\n",
    "xgboost = Pipeline([(\"m\", XGBClassifier())])\n",
    "models.append((\"XGBoost\", xgboost))\n",
    "\n",
    "#  Defining the voting ensemble\n",
    "ensemble = VotingClassifier(estimators = models, voting = \"hard\")"
   ]
  },
  {
   "cell_type": "code",
   "execution_count": 14,
   "id": "36a6f01e",
   "metadata": {},
   "outputs": [
    {
     "data": {
      "text/plain": [
       "[('Decision', Pipeline(steps=[('m', DecisionTreeClassifier())])),\n",
       " ('RandomForest', Pipeline(steps=[('m', RandomForestClassifier())])),\n",
       " ('XGBoost',\n",
       "  Pipeline(steps=[('m',\n",
       "                   XGBClassifier(base_score=None, booster=None,\n",
       "                                 colsample_bylevel=None, colsample_bynode=None,\n",
       "                                 colsample_bytree=None, gamma=None, gpu_id=None,\n",
       "                                 importance_type='gain',\n",
       "                                 interaction_constraints=None, learning_rate=None,\n",
       "                                 max_delta_step=None, max_depth=None,\n",
       "                                 min_child_weight=None, missing=nan,\n",
       "                                 monotone_constraints=None, n_estimators=100,\n",
       "                                 n_jobs=None, num_parallel_tree=None,\n",
       "                                 random_state=None, reg_alpha=None,\n",
       "                                 reg_lambda=None, scale_pos_weight=None,\n",
       "                                 subsample=None, tree_method=None,\n",
       "                                 validate_parameters=None, verbosity=None))]))]"
      ]
     },
     "execution_count": 14,
     "metadata": {},
     "output_type": "execute_result"
    }
   ],
   "source": [
    "# Lets see the models\n",
    "models"
   ]
  },
  {
   "cell_type": "code",
   "execution_count": 15,
   "id": "fac82b1c",
   "metadata": {},
   "outputs": [
    {
     "data": {
      "text/plain": [
       "VotingClassifier(estimators=[('Decision',\n",
       "                              Pipeline(steps=[('m',\n",
       "                                               DecisionTreeClassifier())])),\n",
       "                             ('RandomForest',\n",
       "                              Pipeline(steps=[('m',\n",
       "                                               RandomForestClassifier())])),\n",
       "                             ('XGBoost',\n",
       "                              Pipeline(steps=[('m',\n",
       "                                               XGBClassifier(base_score=None,\n",
       "                                                             booster=None,\n",
       "                                                             colsample_bylevel=None,\n",
       "                                                             colsample_bynode=None,\n",
       "                                                             colsample_bytree=None,\n",
       "                                                             gamma=None,\n",
       "                                                             gpu_id=None,\n",
       "                                                             importance_type='gain',\n",
       "                                                             interaction_constraints=None,\n",
       "                                                             learning_rate=None,\n",
       "                                                             max_delta_step=None,\n",
       "                                                             max_depth=None,\n",
       "                                                             min_child_weight=None,\n",
       "                                                             missing=nan,\n",
       "                                                             monotone_constraints=None,\n",
       "                                                             n_estimators=100,\n",
       "                                                             n_jobs=None,\n",
       "                                                             num_parallel_tree=None,\n",
       "                                                             random_state=None,\n",
       "                                                             reg_alpha=None,\n",
       "                                                             reg_lambda=None,\n",
       "                                                             scale_pos_weight=None,\n",
       "                                                             subsample=None,\n",
       "                                                             tree_method=None,\n",
       "                                                             validate_parameters=None,\n",
       "                                                             verbosity=None))]))])"
      ]
     },
     "execution_count": 15,
     "metadata": {},
     "output_type": "execute_result"
    }
   ],
   "source": [
    "# Lets see the voting classifier\n",
    "ensemble"
   ]
  },
  {
   "cell_type": "code",
   "execution_count": 16,
   "id": "373b5f2b",
   "metadata": {},
   "outputs": [],
   "source": [
    "# Cross Validation\n",
    "cv = RepeatedStratifiedKFold(n_splits = 10, n_repeats = 3, random_state = 1)\n",
    "n_scores = cross_val_score(ensemble, X, y, scoring = \"accuracy\", cv = cv, n_jobs = -1)"
   ]
  },
  {
   "cell_type": "code",
   "execution_count": 17,
   "id": "871aa535",
   "metadata": {},
   "outputs": [
    {
     "data": {
      "text/plain": [
       "array([0.89, 0.92, 0.94, 0.91, 0.88, 0.95, 0.94, 0.92, 0.93, 0.92, 0.93,\n",
       "       0.9 , 0.91, 0.94, 0.91, 0.96, 0.94, 0.91, 0.91, 0.94, 0.93, 0.95,\n",
       "       0.96, 0.96, 0.91, 0.85, 0.91, 0.89, 0.89, 0.89])"
      ]
     },
     "execution_count": 17,
     "metadata": {},
     "output_type": "execute_result"
    }
   ],
   "source": [
    "# Lets see the scores\n",
    "n_scores"
   ]
  },
  {
   "cell_type": "code",
   "execution_count": 18,
   "id": "8828a665",
   "metadata": {},
   "outputs": [
    {
     "data": {
      "text/plain": [
       "0.9196666666666667"
      ]
     },
     "execution_count": 18,
     "metadata": {},
     "output_type": "execute_result"
    }
   ],
   "source": [
    "# Lets see the mean of scores\n",
    "n_scores.mean()"
   ]
  }
 ],
 "metadata": {
  "kernelspec": {
   "display_name": "Python 3 (ipykernel)",
   "language": "python",
   "name": "python3"
  },
  "language_info": {
   "codemirror_mode": {
    "name": "ipython",
    "version": 3
   },
   "file_extension": ".py",
   "mimetype": "text/x-python",
   "name": "python",
   "nbconvert_exporter": "python",
   "pygments_lexer": "ipython3",
   "version": "3.7.11"
  }
 },
 "nbformat": 4,
 "nbformat_minor": 5
}
